{
  "nbformat": 4,
  "nbformat_minor": 0,
  "metadata": {
    "colab": {
      "provenance": [],
      "authorship_tag": "ABX9TyOdnzG47U2iS4RJ26GjYJDQ",
      "include_colab_link": true
    },
    "kernelspec": {
      "name": "python3",
      "display_name": "Python 3"
    },
    "language_info": {
      "name": "python"
    }
  },
  "cells": [
    {
      "cell_type": "markdown",
      "metadata": {
        "id": "view-in-github",
        "colab_type": "text"
      },
      "source": [
        "<a href=\"https://colab.research.google.com/github/MarcoTulioGT/Apache_beam_pipelines/blob/main/Beam_combiner.ipynb\" target=\"_parent\"><img src=\"https://colab.research.google.com/assets/colab-badge.svg\" alt=\"Open In Colab\"/></a>"
      ]
    },
    {
      "cell_type": "code",
      "execution_count": null,
      "metadata": {
        "id": "mcg5_uw_zzsM"
      },
      "outputs": [],
      "source": [
        "!{'pip install apache-beam'}"
      ]
    },
    {
      "cell_type": "code",
      "source": [
        "import apache_beam as beam\n",
        "\n",
        "class AverageFn(beam.CombineFn):\n",
        "\n",
        "  def create_accumulator(self):\n",
        "    return (0.0, 0)\n",
        "\n",
        "  def add_input(self, sum_count, input):\n",
        "    (sum, count) = sum_count\n",
        "    return sum + input, count +1\n",
        "\n",
        "  def merge_accumulators(self, accumulators):\n",
        "    ind_sums, ind_count = zip(*accumulators)\n",
        "    return sum(ind_sums), sum(ind_count)\n",
        "\n",
        "  def extract_output(self, sum_count):\n",
        "    (sum, count) = sum_count\n",
        "    return sum / count if count else float('NaN')\n",
        "\n",
        "p = beam.Pipeline()\n",
        "\n",
        "small_sum = (\n",
        "    p\n",
        "     | beam.Create([15,5,7,7,9,23,13,5])\n",
        "     | beam.CombineGlobally(AverageFn())\n",
        "     | 'Write results' >> beam.io.WriteToText('data/combine')\n",
        ")\n",
        "\n",
        "p.run()\n",
        "\n",
        "!{( 'head -n 20 data/combine-00000-of-00001')}"
      ],
      "metadata": {
        "colab": {
          "base_uri": "https://localhost:8080/"
        },
        "id": "T9Z3tvTa3aHQ",
        "outputId": "033d2ddc-2291-435e-9ff5-8fb076fa8c83"
      },
      "execution_count": 4,
      "outputs": [
        {
          "output_type": "stream",
          "name": "stdout",
          "text": [
            "10.5\n"
          ]
        }
      ]
    }
  ]
}